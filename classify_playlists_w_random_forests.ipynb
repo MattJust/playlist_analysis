{
 "cells": [
  {
   "cell_type": "markdown",
   "metadata": {},
   "source": [
    "Here we merge, analyse and classify two playlists using Decision Trees, then Random Forests. \n",
    "\n",
    "It's worth considering that the two playlists - the Billboard Hot 100 for June 10, 2020 - and my PopConnoisseur playlist - are not worlds apart, both featuring pop music in the broadest sense. Nonetheless there are differences."
   ]
  },
  {
   "cell_type": "code",
   "execution_count": 33,
   "metadata": {},
   "outputs": [],
   "source": [
    "import pandas as pd\n",
    "import numpy as np\n",
    "import matplotlib.pyplot as plt\n",
    "import seaborn as sns\n",
    "%matplotlib inline"
   ]
  },
  {
   "cell_type": "code",
   "execution_count": 86,
   "metadata": {},
   "outputs": [],
   "source": [
    "pcdf = pd.read_excel('pc_data.xlsx', usecols = \"B:S\")"
   ]
  },
  {
   "cell_type": "code",
   "execution_count": 87,
   "metadata": {},
   "outputs": [
    {
     "name": "stdout",
     "output_type": "stream",
     "text": [
      "<class 'pandas.core.frame.DataFrame'>\n",
      "RangeIndex: 362 entries, 0 to 361\n",
      "Data columns (total 18 columns):\n",
      " #   Column            Non-Null Count  Dtype  \n",
      "---  ------            --------------  -----  \n",
      " 0   danceability      362 non-null    float64\n",
      " 1   energy            362 non-null    float64\n",
      " 2   key               362 non-null    int64  \n",
      " 3   loudness          362 non-null    float64\n",
      " 4   mode              362 non-null    int64  \n",
      " 5   speechiness       362 non-null    float64\n",
      " 6   acousticness      362 non-null    float64\n",
      " 7   instrumentalness  362 non-null    float64\n",
      " 8   liveness          362 non-null    float64\n",
      " 9   valence           362 non-null    float64\n",
      " 10  tempo             362 non-null    float64\n",
      " 11  type              362 non-null    object \n",
      " 12  id                362 non-null    object \n",
      " 13  uri               362 non-null    object \n",
      " 14  track_href        362 non-null    object \n",
      " 15  analysis_url      362 non-null    object \n",
      " 16  duration_ms       362 non-null    int64  \n",
      " 17  time_signature    362 non-null    int64  \n",
      "dtypes: float64(9), int64(4), object(5)\n",
      "memory usage: 51.0+ KB\n"
     ]
    }
   ],
   "source": [
    "pcdf.info()"
   ]
  },
  {
   "cell_type": "code",
   "execution_count": 88,
   "metadata": {},
   "outputs": [],
   "source": [
    "pcdf.drop(['key','mode','track_href','instrumentalness','analysis_url','time_signature','uri','type','id'],axis=1,inplace=True)"
   ]
  },
  {
   "cell_type": "markdown",
   "metadata": {},
   "source": [
    "Let's create a column indicating that this is the PopConnoisseur playlist."
   ]
  },
  {
   "cell_type": "code",
   "execution_count": 89,
   "metadata": {},
   "outputs": [],
   "source": [
    "pcdf['playlist']=1"
   ]
  },
  {
   "cell_type": "code",
   "execution_count": 90,
   "metadata": {},
   "outputs": [
    {
     "data": {
      "text/html": [
       "<div>\n",
       "<style scoped>\n",
       "    .dataframe tbody tr th:only-of-type {\n",
       "        vertical-align: middle;\n",
       "    }\n",
       "\n",
       "    .dataframe tbody tr th {\n",
       "        vertical-align: top;\n",
       "    }\n",
       "\n",
       "    .dataframe thead th {\n",
       "        text-align: right;\n",
       "    }\n",
       "</style>\n",
       "<table border=\"1\" class=\"dataframe\">\n",
       "  <thead>\n",
       "    <tr style=\"text-align: right;\">\n",
       "      <th></th>\n",
       "      <th>danceability</th>\n",
       "      <th>energy</th>\n",
       "      <th>loudness</th>\n",
       "      <th>speechiness</th>\n",
       "      <th>acousticness</th>\n",
       "      <th>liveness</th>\n",
       "      <th>valence</th>\n",
       "      <th>tempo</th>\n",
       "      <th>duration_ms</th>\n",
       "      <th>playlist</th>\n",
       "    </tr>\n",
       "  </thead>\n",
       "  <tbody>\n",
       "    <tr>\n",
       "      <th>0</th>\n",
       "      <td>0.462</td>\n",
       "      <td>0.715</td>\n",
       "      <td>-6.829</td>\n",
       "      <td>0.0454</td>\n",
       "      <td>0.11800</td>\n",
       "      <td>0.0592</td>\n",
       "      <td>0.237</td>\n",
       "      <td>99.763</td>\n",
       "      <td>166788</td>\n",
       "      <td>1</td>\n",
       "    </tr>\n",
       "    <tr>\n",
       "      <th>1</th>\n",
       "      <td>0.678</td>\n",
       "      <td>0.607</td>\n",
       "      <td>-7.190</td>\n",
       "      <td>0.0750</td>\n",
       "      <td>0.17400</td>\n",
       "      <td>0.0788</td>\n",
       "      <td>0.445</td>\n",
       "      <td>91.973</td>\n",
       "      <td>204418</td>\n",
       "      <td>1</td>\n",
       "    </tr>\n",
       "    <tr>\n",
       "      <th>2</th>\n",
       "      <td>0.623</td>\n",
       "      <td>0.840</td>\n",
       "      <td>-3.944</td>\n",
       "      <td>0.0799</td>\n",
       "      <td>0.04730</td>\n",
       "      <td>0.1070</td>\n",
       "      <td>0.788</td>\n",
       "      <td>162.062</td>\n",
       "      <td>251627</td>\n",
       "      <td>1</td>\n",
       "    </tr>\n",
       "    <tr>\n",
       "      <th>3</th>\n",
       "      <td>0.555</td>\n",
       "      <td>0.423</td>\n",
       "      <td>-6.232</td>\n",
       "      <td>0.0440</td>\n",
       "      <td>0.79900</td>\n",
       "      <td>0.1120</td>\n",
       "      <td>0.257</td>\n",
       "      <td>137.044</td>\n",
       "      <td>202147</td>\n",
       "      <td>1</td>\n",
       "    </tr>\n",
       "    <tr>\n",
       "      <th>4</th>\n",
       "      <td>0.420</td>\n",
       "      <td>0.879</td>\n",
       "      <td>-4.916</td>\n",
       "      <td>0.0568</td>\n",
       "      <td>0.00729</td>\n",
       "      <td>0.1800</td>\n",
       "      <td>0.432</td>\n",
       "      <td>128.913</td>\n",
       "      <td>279000</td>\n",
       "      <td>1</td>\n",
       "    </tr>\n",
       "  </tbody>\n",
       "</table>\n",
       "</div>"
      ],
      "text/plain": [
       "   danceability  energy  loudness  speechiness  acousticness  liveness  \\\n",
       "0         0.462   0.715    -6.829       0.0454       0.11800    0.0592   \n",
       "1         0.678   0.607    -7.190       0.0750       0.17400    0.0788   \n",
       "2         0.623   0.840    -3.944       0.0799       0.04730    0.1070   \n",
       "3         0.555   0.423    -6.232       0.0440       0.79900    0.1120   \n",
       "4         0.420   0.879    -4.916       0.0568       0.00729    0.1800   \n",
       "\n",
       "   valence    tempo  duration_ms  playlist  \n",
       "0    0.237   99.763       166788         1  \n",
       "1    0.445   91.973       204418         1  \n",
       "2    0.788  162.062       251627         1  \n",
       "3    0.257  137.044       202147         1  \n",
       "4    0.432  128.913       279000         1  "
      ]
     },
     "execution_count": 90,
     "metadata": {},
     "output_type": "execute_result"
    }
   ],
   "source": [
    "pcdf.head()"
   ]
  },
  {
   "cell_type": "markdown",
   "metadata": {},
   "source": [
    "Let's load in the Billboard Hot 100 playlist."
   ]
  },
  {
   "cell_type": "code",
   "execution_count": 91,
   "metadata": {},
   "outputs": [],
   "source": [
    "bbdf = pd.read_excel('bb_data.xlsx', usecols = \"B:S\")"
   ]
  },
  {
   "cell_type": "markdown",
   "metadata": {},
   "source": [
    "Let's create a column indicating that this is the Billboard Hot 100 playlist."
   ]
  },
  {
   "cell_type": "code",
   "execution_count": 92,
   "metadata": {},
   "outputs": [],
   "source": [
    "bbdf['playlist']=0"
   ]
  },
  {
   "cell_type": "code",
   "execution_count": 94,
   "metadata": {},
   "outputs": [],
   "source": [
    "bbdf.drop(['key','mode','track_href','instrumentalness','analysis_url','time_signature','uri','type','id'],axis=1,inplace=True)"
   ]
  },
  {
   "cell_type": "code",
   "execution_count": 95,
   "metadata": {},
   "outputs": [
    {
     "data": {
      "text/html": [
       "<div>\n",
       "<style scoped>\n",
       "    .dataframe tbody tr th:only-of-type {\n",
       "        vertical-align: middle;\n",
       "    }\n",
       "\n",
       "    .dataframe tbody tr th {\n",
       "        vertical-align: top;\n",
       "    }\n",
       "\n",
       "    .dataframe thead th {\n",
       "        text-align: right;\n",
       "    }\n",
       "</style>\n",
       "<table border=\"1\" class=\"dataframe\">\n",
       "  <thead>\n",
       "    <tr style=\"text-align: right;\">\n",
       "      <th></th>\n",
       "      <th>danceability</th>\n",
       "      <th>energy</th>\n",
       "      <th>loudness</th>\n",
       "      <th>speechiness</th>\n",
       "      <th>acousticness</th>\n",
       "      <th>liveness</th>\n",
       "      <th>valence</th>\n",
       "      <th>tempo</th>\n",
       "      <th>duration_ms</th>\n",
       "      <th>playlist</th>\n",
       "    </tr>\n",
       "  </thead>\n",
       "  <tbody>\n",
       "    <tr>\n",
       "      <th>0</th>\n",
       "      <td>0.672</td>\n",
       "      <td>0.855</td>\n",
       "      <td>-3.764</td>\n",
       "      <td>0.0397</td>\n",
       "      <td>0.02100</td>\n",
       "      <td>0.3230</td>\n",
       "      <td>0.646</td>\n",
       "      <td>123.056</td>\n",
       "      <td>182200</td>\n",
       "      <td>0</td>\n",
       "    </tr>\n",
       "    <tr>\n",
       "      <th>1</th>\n",
       "      <td>0.822</td>\n",
       "      <td>0.743</td>\n",
       "      <td>-4.772</td>\n",
       "      <td>0.2800</td>\n",
       "      <td>0.01600</td>\n",
       "      <td>0.1270</td>\n",
       "      <td>0.636</td>\n",
       "      <td>84.459</td>\n",
       "      <td>242001</td>\n",
       "      <td>0</td>\n",
       "    </tr>\n",
       "    <tr>\n",
       "      <th>2</th>\n",
       "      <td>0.746</td>\n",
       "      <td>0.690</td>\n",
       "      <td>-7.956</td>\n",
       "      <td>0.1640</td>\n",
       "      <td>0.24700</td>\n",
       "      <td>0.1010</td>\n",
       "      <td>0.497</td>\n",
       "      <td>89.977</td>\n",
       "      <td>181733</td>\n",
       "      <td>0</td>\n",
       "    </tr>\n",
       "    <tr>\n",
       "      <th>3</th>\n",
       "      <td>0.514</td>\n",
       "      <td>0.730</td>\n",
       "      <td>-5.934</td>\n",
       "      <td>0.0598</td>\n",
       "      <td>0.00146</td>\n",
       "      <td>0.0897</td>\n",
       "      <td>0.334</td>\n",
       "      <td>171.005</td>\n",
       "      <td>200040</td>\n",
       "      <td>0</td>\n",
       "    </tr>\n",
       "    <tr>\n",
       "      <th>4</th>\n",
       "      <td>0.856</td>\n",
       "      <td>0.641</td>\n",
       "      <td>-4.640</td>\n",
       "      <td>0.2040</td>\n",
       "      <td>0.11900</td>\n",
       "      <td>0.4270</td>\n",
       "      <td>0.745</td>\n",
       "      <td>111.004</td>\n",
       "      <td>206221</td>\n",
       "      <td>0</td>\n",
       "    </tr>\n",
       "  </tbody>\n",
       "</table>\n",
       "</div>"
      ],
      "text/plain": [
       "   danceability  energy  loudness  speechiness  acousticness  liveness  \\\n",
       "0         0.672   0.855    -3.764       0.0397       0.02100    0.3230   \n",
       "1         0.822   0.743    -4.772       0.2800       0.01600    0.1270   \n",
       "2         0.746   0.690    -7.956       0.1640       0.24700    0.1010   \n",
       "3         0.514   0.730    -5.934       0.0598       0.00146    0.0897   \n",
       "4         0.856   0.641    -4.640       0.2040       0.11900    0.4270   \n",
       "\n",
       "   valence    tempo  duration_ms  playlist  \n",
       "0    0.646  123.056       182200         0  \n",
       "1    0.636   84.459       242001         0  \n",
       "2    0.497   89.977       181733         0  \n",
       "3    0.334  171.005       200040         0  \n",
       "4    0.745  111.004       206221         0  "
      ]
     },
     "execution_count": 95,
     "metadata": {},
     "output_type": "execute_result"
    }
   ],
   "source": [
    "bbdf.head()"
   ]
  },
  {
   "cell_type": "markdown",
   "metadata": {},
   "source": [
    "Now let's merge the two DataFrames."
   ]
  },
  {
   "cell_type": "code",
   "execution_count": 96,
   "metadata": {},
   "outputs": [],
   "source": [
    "frames = [pcdf, bbdf]\n",
    "alldf = pd.concat(frames)"
   ]
  },
  {
   "cell_type": "code",
   "execution_count": 97,
   "metadata": {},
   "outputs": [
    {
     "name": "stdout",
     "output_type": "stream",
     "text": [
      "    danceability  energy  loudness  speechiness  acousticness  liveness  \\\n",
      "0          0.462   0.715    -6.829       0.0454       0.11800    0.0592   \n",
      "1          0.678   0.607    -7.190       0.0750       0.17400    0.0788   \n",
      "2          0.623   0.840    -3.944       0.0799       0.04730    0.1070   \n",
      "3          0.555   0.423    -6.232       0.0440       0.79900    0.1120   \n",
      "4          0.420   0.879    -4.916       0.0568       0.00729    0.1800   \n",
      "..           ...     ...       ...          ...           ...       ...   \n",
      "95         0.708   0.186    -8.953       0.0422       0.86800    0.0779   \n",
      "96         0.817   0.513    -6.263       0.3940       0.38000    0.1090   \n",
      "97         0.793   0.536    -7.624       0.1030       0.07040    0.1710   \n",
      "98         0.837   0.663    -6.434       0.3340       0.07620    0.0941   \n",
      "99         0.674   0.774    -7.567       0.0892       0.06860    0.3930   \n",
      "\n",
      "    valence    tempo  duration_ms  playlist  \n",
      "0     0.237   99.763       166788         1  \n",
      "1     0.445   91.973       204418         1  \n",
      "2     0.788  162.062       251627         1  \n",
      "3     0.257  137.044       202147         1  \n",
      "4     0.432  128.913       279000         1  \n",
      "..      ...      ...          ...       ...  \n",
      "95    0.321   72.541       156107         0  \n",
      "96    0.177  123.029       203438         0  \n",
      "97    0.382   78.006       165680         0  \n",
      "98    0.293   95.081       156032         0  \n",
      "99    0.330  112.050       176547         0  \n",
      "\n",
      "[462 rows x 10 columns]\n"
     ]
    }
   ],
   "source": [
    "print(alldf)"
   ]
  },
  {
   "cell_type": "code",
   "execution_count": 98,
   "metadata": {},
   "outputs": [],
   "source": [
    "from sklearn.model_selection import train_test_split"
   ]
  },
  {
   "cell_type": "code",
   "execution_count": 100,
   "metadata": {},
   "outputs": [
    {
     "data": {
      "text/plain": [
       "Text(0.5, 0, 'Playlist')"
      ]
     },
     "execution_count": 100,
     "metadata": {},
     "output_type": "execute_result"
    },
    {
     "data": {
      "image/png": "[encoded data removed]",
      "text/plain": [
       "<Figure size 720x432 with 1 Axes>"
      ]
     },
     "metadata": {
      "needs_background": "light"
     },
     "output_type": "display_data"
    }
   ],
   "source": [
    "plt.figure(figsize=(10,6))\n",
    "alldf[alldf['playlist']==1]['danceability'].hist(bins=35, color='blue',label='PopConnoisseur',alpha=0.6)\n",
    "alldf[alldf['playlist']==0]['danceability'].hist(bins=35, color='red',label='Billboard',alpha=0.6)\n",
    "plt.legend()\n",
    "plt.xlabel('Playlist')"
   ]
  },
  {
   "cell_type": "markdown",
   "metadata": {},
   "source": [
    "Now let's train/test/split to predict the playlist value, i.e. which playlist is a given song in."
   ]
  },
  {
   "cell_type": "code",
   "execution_count": 101,
   "metadata": {},
   "outputs": [],
   "source": [
    "X = alldf.drop('playlist',axis=1)\n",
    "y = alldf['playlist']"
   ]
  },
  {
   "cell_type": "code",
   "execution_count": 102,
   "metadata": {},
   "outputs": [],
   "source": [
    "X_train, X_test, y_train, y_test = train_test_split(X, y, test_size=0.30)"
   ]
  },
  {
   "cell_type": "markdown",
   "metadata": {},
   "source": [
    "First we'll use Decision Trees."
   ]
  },
  {
   "cell_type": "code",
   "execution_count": 103,
   "metadata": {},
   "outputs": [],
   "source": [
    "from sklearn.tree import DecisionTreeClassifier"
   ]
  },
  {
   "cell_type": "code",
   "execution_count": 104,
   "metadata": {},
   "outputs": [],
   "source": [
    "dtree = DecisionTreeClassifier()"
   ]
  },
  {
   "cell_type": "code",
   "execution_count": 105,
   "metadata": {},
   "outputs": [
    {
     "data": {
      "text/plain": [
       "DecisionTreeClassifier(ccp_alpha=0.0, class_weight=None, criterion='gini',\n",
       "                       max_depth=None, max_features=None, max_leaf_nodes=None,\n",
       "                       min_impurity_decrease=0.0, min_impurity_split=None,\n",
       "                       min_samples_leaf=1, min_samples_split=2,\n",
       "                       min_weight_fraction_leaf=0.0, presort='deprecated',\n",
       "                       random_state=None, splitter='best')"
      ]
     },
     "execution_count": 105,
     "metadata": {},
     "output_type": "execute_result"
    }
   ],
   "source": [
    "dtree.fit(X_train,y_train)"
   ]
  },
  {
   "cell_type": "code",
   "execution_count": 106,
   "metadata": {},
   "outputs": [],
   "source": [
    "predictions = dtree.predict(X_test)"
   ]
  },
  {
   "cell_type": "code",
   "execution_count": 107,
   "metadata": {},
   "outputs": [],
   "source": [
    "from sklearn.metrics import classification_report,confusion_matrix"
   ]
  },
  {
   "cell_type": "code",
   "execution_count": 108,
   "metadata": {},
   "outputs": [
    {
     "name": "stdout",
     "output_type": "stream",
     "text": [
      "              precision    recall  f1-score   support\n",
      "\n",
      "           0       0.44      0.44      0.44        34\n",
      "           1       0.82      0.82      0.82       105\n",
      "\n",
      "    accuracy                           0.73       139\n",
      "   macro avg       0.63      0.63      0.63       139\n",
      "weighted avg       0.73      0.73      0.73       139\n",
      "\n"
     ]
    }
   ],
   "source": [
    "print(classification_report(y_test,predictions))"
   ]
  },
  {
   "cell_type": "code",
   "execution_count": 109,
   "metadata": {},
   "outputs": [
    {
     "name": "stdout",
     "output_type": "stream",
     "text": [
      "[[15 19]\n",
      " [19 86]]\n"
     ]
    }
   ],
   "source": [
    "print(confusion_matrix(y_test,predictions))"
   ]
  },
  {
   "cell_type": "code",
   "execution_count": null,
   "metadata": {},
   "outputs": [],
   "source": [
    "A weighted average of 73 isn't bad, and the confusion matrix looks ok."
   ]
  },
  {
   "cell_type": "markdown",
   "metadata": {},
   "source": [
    "Now let's try random forests."
   ]
  },
  {
   "cell_type": "code",
   "execution_count": 110,
   "metadata": {},
   "outputs": [
    {
     "data": {
      "text/plain": [
       "RandomForestClassifier(bootstrap=True, ccp_alpha=0.0, class_weight=None,\n",
       "                       criterion='gini', max_depth=None, max_features='auto',\n",
       "                       max_leaf_nodes=None, max_samples=None,\n",
       "                       min_impurity_decrease=0.0, min_impurity_split=None,\n",
       "                       min_samples_leaf=1, min_samples_split=2,\n",
       "                       min_weight_fraction_leaf=0.0, n_estimators=100,\n",
       "                       n_jobs=None, oob_score=False, random_state=None,\n",
       "                       verbose=0, warm_start=False)"
      ]
     },
     "execution_count": 110,
     "metadata": {},
     "output_type": "execute_result"
    }
   ],
   "source": [
    "from sklearn.ensemble import RandomForestClassifier\n",
    "rfc = RandomForestClassifier(n_estimators=100)\n",
    "rfc.fit(X_train, y_train)"
   ]
  },
  {
   "cell_type": "code",
   "execution_count": 111,
   "metadata": {},
   "outputs": [],
   "source": [
    "rfc_pred = rfc.predict(X_test)"
   ]
  },
  {
   "cell_type": "code",
   "execution_count": 113,
   "metadata": {},
   "outputs": [
    {
     "name": "stdout",
     "output_type": "stream",
     "text": [
      "              precision    recall  f1-score   support\n",
      "\n",
      "           0       0.62      0.29      0.40        34\n",
      "           1       0.80      0.94      0.87       105\n",
      "\n",
      "    accuracy                           0.78       139\n",
      "   macro avg       0.71      0.62      0.63       139\n",
      "weighted avg       0.76      0.78      0.75       139\n",
      "\n"
     ]
    }
   ],
   "source": [
    "print(classification_report(y_test,rfc_pred))"
   ]
  },
  {
   "cell_type": "code",
   "execution_count": 112,
   "metadata": {},
   "outputs": [
    {
     "name": "stdout",
     "output_type": "stream",
     "text": [
      "[[10 24]\n",
      " [ 6 99]]\n"
     ]
    }
   ],
   "source": [
    "print(confusion_matrix(y_test,rfc_pred))"
   ]
  },
  {
   "cell_type": "markdown",
   "metadata": {},
   "source": [
    "This f1-score and confusion matrix result is a bit better across the board. There has been a lot written about adjusting Random Forect hyperparameters. I've just gone with defaults/\"typical\" values here, but it could be worth some experimentation in the future, along the lines of this article:\n",
    "\n",
    "https://towardsdatascience.com/optimizing-hyperparameters-in-random-forest-classification-ec7741f9d3f6"
   ]
  }
 ],
 "metadata": {
  "kernelspec": {
   "display_name": "Python 3",
   "language": "python",
   "name": "python3"
  },
  "language_info": {
   "codemirror_mode": {
    "name": "ipython",
    "version": 3
   },
   "file_extension": ".py",
   "mimetype": "text/x-python",
   "name": "python",
   "nbconvert_exporter": "python",
   "pygments_lexer": "ipython3",
   "version": "3.7.6"
  }
 },
 "nbformat": 4,
 "nbformat_minor": 4
}
